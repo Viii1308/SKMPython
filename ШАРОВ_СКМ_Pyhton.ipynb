{
 "cells": [
  {
   "cell_type": "markdown",
   "id": "painted-large",
   "metadata": {},
   "source": [
    "# 8. Плохо обусловленные матрицы\n",
    "Провести серию экспериментов, тестирующую команды scipy.linalg.solve, numpy.linalg.cond на плохо обусловленных матрицах вида A=LU, где L, U - случайные нижняя треугольная и верхняя треугольная матрицы соответственно с малыми диагональными элементами.\n",
    "\n",
    "Сначала импортируем нужные нам библиотеки"
   ]
  },
  {
   "cell_type": "code",
   "execution_count": 377,
   "id": "working-afternoon",
   "metadata": {},
   "outputs": [],
   "source": [
    "from scipy.linalg import solve\n",
    "from numpy.linalg import cond, norm\n",
    "import numpy as np\n",
    "import matplotlib.pyplot as plt\n",
    "import time"
   ]
  },
  {
   "cell_type": "markdown",
   "id": "later-voltage",
   "metadata": {},
   "source": [
    "Переменная mal - задает порядок малости диагональных элементов.\n",
    "cond_4_graf - список чисел обусловленности\n",
    "perc_cond - список, в котором хранятся результаты проверки на >10^16.\n",
    "t_cond - список, в котором хранится время выполнения функции numpy.linalg.cond\n",
    "nevyazka - список невязок\n",
    "otn_osh_resh - тут хранится список относительных ошибок решения"
   ]
  },
  {
   "cell_type": "code",
   "execution_count": 378,
   "id": "prime-manchester",
   "metadata": {},
   "outputs": [],
   "source": [
    "mal=10\n",
    "cond_4_graf=[]\n",
    "perc_cond=[]\n",
    "t_cond=[]\n",
    "nevyazka=[]\n",
    "otn_oshibk_resh=[]"
   ]
  },
  {
   "cell_type": "markdown",
   "id": "editorial-opportunity",
   "metadata": {},
   "source": [
    "для матриц порядка от 1 до 9 проведем исследование.\n",
    "Будем создавать случайные треугольные матрицы u,l. Диагональные элементы должны быть малыми, поэтому случайно сгенерированные диагональные элементы разделим на некую величину. Далее получим матрицу a как произведение матриц l и u (a=l.dot(u)). Далее оценивается время работы numpy.linalg.cond и порядок числа обусловленности.\n",
    "Формируется вектор b на основе соотношения Ax=b (b=a.dot(x)), где x - рандомно сгенерированный вектор. "
   ]
  },
  {
   "cell_type": "code",
   "execution_count": 379,
   "id": "single-regulation",
   "metadata": {
    "scrolled": false
   },
   "outputs": [
    {
     "name": "stderr",
     "output_type": "stream",
     "text": [
      "<ipython-input-379-89c1ad76205c>:27: LinAlgWarning: Ill-conditioned matrix (rcond=1.14144e-18): result may not be accurate.\n",
      "  x1=solve(a,b)\n",
      "<ipython-input-379-89c1ad76205c>:27: LinAlgWarning: Ill-conditioned matrix (rcond=8.02695e-18): result may not be accurate.\n",
      "  x1=solve(a,b)\n",
      "<ipython-input-379-89c1ad76205c>:27: LinAlgWarning: Ill-conditioned matrix (rcond=1.01765e-18): result may not be accurate.\n",
      "  x1=solve(a,b)\n"
     ]
    }
   ],
   "source": [
    "for n in range(1, 10):\n",
    "    u=np.triu(np.random.rand(n, n))\n",
    "    l=np.tril(np.random.rand(n, n))\n",
    "    for i in range(n):\n",
    "        u[i][i]/=mal\n",
    "        l[i][i]/=mal\n",
    "    a=l.dot(u)\n",
    "    \n",
    "    #замеряем время работы numpy.linalg.cond\n",
    "    f_time = time.time()\n",
    "    for i in range(10000):\n",
    "        cond_a=cond(a)\n",
    "    t_time=time.time()-f_time\n",
    "    t_cond.append(t_time)\n",
    "    \n",
    "    #Тут оцениваем порядок числа обусловленности\n",
    "    if cond_a>10**16:\n",
    "        perc_cond.append(\"{} - Превосходит\".format(n))\n",
    "    else:\n",
    "        perc_cond.append(\"{} - Не превосходит\".format(n))    \n",
    "    cond_4_graf.append(cond_a)\n",
    "    #print(cond_a) #Число обусловленности \n",
    "    \n",
    "    #Задаём решение - x\n",
    "    x=np.random.rand(n)\n",
    "    b=a.dot(x)\n",
    "    x1=solve(a,b)\n",
    "    norm_nevyazka=norm(x1-x)\n",
    "    nevyazka.append(norm_nevyazka)\n",
    "    norm_otnositl=norm_nevyazka/norm(x)\n",
    "    otn_oshibk_resh.append(norm_otnositl)    "
   ]
  },
  {
   "cell_type": "markdown",
   "id": "combined-reference",
   "metadata": {},
   "source": [
    "Оценка превосходства числа 10^16"
   ]
  },
  {
   "cell_type": "code",
   "execution_count": 380,
   "id": "entire-saturn",
   "metadata": {},
   "outputs": [
    {
     "name": "stdout",
     "output_type": "stream",
     "text": [
      "['1 - Не превосходит', '2 - Не превосходит', '3 - Не превосходит', '4 - Не превосходит', '5 - Не превосходит', '6 - Превосходит', '7 - Не превосходит', '8 - Превосходит', '9 - Превосходит']\n"
     ]
    }
   ],
   "source": [
    "print(perc_cond)"
   ]
  },
  {
   "cell_type": "code",
   "execution_count": 381,
   "id": "requested-amino",
   "metadata": {},
   "outputs": [
    {
     "data": {
      "text/plain": [
       "Text(0.5, 1.0, 'Condition')"
      ]
     },
     "execution_count": 381,
     "metadata": {},
     "output_type": "execute_result"
    },
    {
     "data": {
      "image/png": "[encoded data removed]",
      "text/plain": [
       "<Figure size 432x288 with 1 Axes>"
      ]
     },
     "metadata": {
      "needs_background": "light"
     },
     "output_type": "display_data"
    }
   ],
   "source": [
    "n_x=list(range(1,10))\n",
    "plt.loglog(n_x, cond_4_graf)\n",
    "plt.title('Condition')"
   ]
  },
  {
   "cell_type": "markdown",
   "id": "incident-ontario",
   "metadata": {},
   "source": [
    "Строится график зависимости Время выполнения функции numpy.linalg.cond - порядок матрицы. Как видим зависимость тут скорее линейная."
   ]
  },
  {
   "cell_type": "code",
   "execution_count": 382,
   "id": "portuguese-variable",
   "metadata": {},
   "outputs": [
    {
     "data": {
      "text/plain": [
       "Text(0.5, 1.0, 'timeplot')"
      ]
     },
     "execution_count": 382,
     "metadata": {},
     "output_type": "execute_result"
    },
    {
     "data": {
      "image/png": "[encoded data removed]",
      "text/plain": [
       "<Figure size 432x288 with 1 Axes>"
      ]
     },
     "metadata": {
      "needs_background": "light"
     },
     "output_type": "display_data"
    }
   ],
   "source": [
    "plt.plot(n_x, t_cond)\n",
    "plt.title('timeplot')"
   ]
  },
  {
   "cell_type": "markdown",
   "id": "blind-swiss",
   "metadata": {},
   "source": [
    "Строится функция невязки. Используется двойная логарифмическая шкала, график представляет собой скорее прямую линию => Невязка - показательная функция относительно порядка матрицы."
   ]
  },
  {
   "cell_type": "code",
   "execution_count": 383,
   "id": "independent-scanner",
   "metadata": {},
   "outputs": [
    {
     "data": {
      "text/plain": [
       "Text(0.5, 1.0, 'Невязка')"
      ]
     },
     "execution_count": 383,
     "metadata": {},
     "output_type": "execute_result"
    },
    {
     "data": {
      "image/png": "[encoded data removed]",
      "text/plain": [
       "<Figure size 432x288 with 1 Axes>"
      ]
     },
     "metadata": {
      "needs_background": "light"
     },
     "output_type": "display_data"
    }
   ],
   "source": [
    "plt.loglog(n_x, nevyazka)\n",
    "plt.title('Невязка')"
   ]
  },
  {
   "cell_type": "markdown",
   "id": "surprised-incidence",
   "metadata": {},
   "source": [
    "Строится график относительной ошибки решения. Используется двойная логарифмическая шкала, график представляет собой скорее прямую линию => Относительная ошибка решения - показательная функция относительно порядка матрицы."
   ]
  },
  {
   "cell_type": "code",
   "execution_count": 384,
   "id": "adjacent-fifteen",
   "metadata": {},
   "outputs": [
    {
     "data": {
      "text/plain": [
       "Text(0.5, 1.0, 'Относительная ошибка решения')"
      ]
     },
     "execution_count": 384,
     "metadata": {},
     "output_type": "execute_result"
    },
    {
     "data": {
      "image/png": "[encoded data removed]",
      "text/plain": [
       "<Figure size 432x288 with 1 Axes>"
      ]
     },
     "metadata": {
      "needs_background": "light"
     },
     "output_type": "display_data"
    }
   ],
   "source": [
    "plt.loglog(n_x, otn_oshibk_resh)\n",
    "plt.title('Относительная ошибка решения')"
   ]
  },
  {
   "cell_type": "code",
   "execution_count": null,
   "id": "right-spanking",
   "metadata": {},
   "outputs": [],
   "source": []
  }
 ],
 "metadata": {
  "kernelspec": {
   "display_name": "Python 3",
   "language": "python",
   "name": "python3"
  },
  "language_info": {
   "codemirror_mode": {
    "name": "ipython",
    "version": 3
   },
   "file_extension": ".py",
   "mimetype": "text/x-python",
   "name": "python",
   "nbconvert_exporter": "python",
   "pygments_lexer": "ipython3",
   "version": "3.9.2"
  }
 },
 "nbformat": 4,
 "nbformat_minor": 5
}
